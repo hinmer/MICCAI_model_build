{
 "cells": [
  {
   "cell_type": "code",
   "execution_count": null,
   "id": "28d1827f-b499-4a2f-b078-6572e03a8637",
   "metadata": {},
   "outputs": [],
   "source": [
    "B, N, C = x_mh.shape\n",
    "        q_mh = self.q(x_mh)\n",
    "        q_mh = q_mh.reshape(B, N, self.num_heads, int(C // self.num_heads)).permute(0, 2, 1, 3)\n",
    "        k_mh = self.k(x_mh)\n",
    "        k_mh = k_mh.reshape(B, -1, self.num_heads, int(C // self.num_heads)).permute(0, 2, 3, 1)\n",
    "        v_mh = self.v(x_mh)\n",
    "        v_mh = v_mh.reshape(B, -1, self.num_heads, int(C // self.num_heads)).permute(0, 2, 1, 3)\n",
    "        q_mv = self.q(x_mv)\n",
    "        q_mv = q_mv.reshape(B, N, self.num_heads, int(C // self.num_heads)).permute(0, 2, 1, 3)\n",
    "        k_mv = self.k(x_mv)\n",
    "        k_mv = k_mv.reshape(B, -1, self.num_heads, int(C // self.num_heads)).permute(0, 2, 3, 1)\n",
    "        v_mv = self.v(x_mv)\n",
    "        v_mv = v_mv.reshape(B, -1, self.num_heads, int(C // self.num_heads)).permute(0, 2, 1, 3)\n",
    "        q_ah = self.q(x_ah)\n",
    "        q_ah = q_ah.reshape(B, N, self.num_heads, int(C // self.num_heads)).permute(0, 2, 1, 3)\n",
    "        k_ah = self.k(x_ah)\n",
    "        k_ah = k_ah.reshape(B, -1, self.num_heads, int(C // self.num_heads)).permute(0, 2, 3, 1)\n",
    "        v_ah = self.v(x_ah)\n",
    "        v_ah = v_ah.reshape(B, -1, self.num_heads, int(C // self.num_heads)).permute(0, 2, 1, 3)\n",
    "        q_av = self.q(x_av)\n",
    "        q_av = q_av.reshape(B, N, self.num_heads, int(C // self.num_heads)).permute(0, 2, 1, 3)\n",
    "        k_av = self.k(x_av)\n",
    "        k_av = k_av.reshape(B, -1, self.num_heads, int(C // self.num_heads)).permute(0, 2, 3, 1)\n",
    "        v_av = self.v(x_av)\n",
    "        v_av = v_av.reshape(B, -1, self.num_heads, int(C // self.num_heads)).permute(0, 2, 1, 3)\n",
    "        attn_mhav = (q_mh @ k_av) * self.scale\n",
    "\n",
    "        attn_mhav = attn_mhav.softmax(dim=-1)\n",
    "        attn_mhav = self.attn_drop(attn_mhav)\n",
    "\n",
    "        attn_mhav = (attn_mhav @ v_mh).transpose(1, 2).reshape(B, N, C)\n",
    "        attn_mhav = self.proj(attn_mhav)\n",
    "        attn_mhav = self.proj_drop(attn_mhav)\n",
    "        attn_ahmv= (q_ah @ k_mv) * self.scale\n",
    "\n",
    "        attn_ahmv = attn_ahmv.softmax(dim=-1)\n",
    "        attn_ahmv = self.attn_drop(attn_ahmv)\n",
    "\n",
    "        attn_ahmv = (attn_ahmv @ v_ah).transpose(1, 2).reshape(B, N, C)\n",
    "        attn_ahmv = self.proj(attn_ahmv)\n",
    "        attn_ahmv = self.proj_drop(attn_ahmv)"
   ]
  }
 ],
 "metadata": {
  "kernelspec": {
   "display_name": "Python 3 (ipykernel)",
   "language": "python",
   "name": "python3"
  },
  "language_info": {
   "codemirror_mode": {
    "name": "ipython",
    "version": 3
   },
   "file_extension": ".py",
   "mimetype": "text/x-python",
   "name": "python",
   "nbconvert_exporter": "python",
   "pygments_lexer": "ipython3",
   "version": "3.9.13"
  }
 },
 "nbformat": 4,
 "nbformat_minor": 5
}
